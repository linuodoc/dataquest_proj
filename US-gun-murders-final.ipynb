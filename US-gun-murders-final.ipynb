{
    "nbformat_minor": 2, 
    "cells": [
        {
            "source": "In this project, you'll be working and analyzing gun deaths data in the US.The dataset came from FiveThirtyEight. I'll be using the techniques and skills learned so far from by following Data analysis track provided by Dataqest.com, by the way its very useful course as you gona to learn by doing and practicing on real data and anwering a real business questions. Just wanted to thank you people.The dataset is stored in the **\"guns.csv\"** file , which contains information on gun deaths in the US from 2012 to 2014.The columns contain demographic and other information about the victim. Each row in the dataset represents a single fatality.Here are the first few rows of the dataset:", 
            "cell_type": "markdown", 
            "metadata": {}
        }, 
        {
            "source": "| sn | year | month | intent  | police | sex | age | race                   | Hispanic | place           | education | \n|----|------|-------|---------|--------|-----|-----|:------------------------:|----------|-----------------|-----------| \n| 1  | 2012 | 1     | Suicide | 0      | M   | 34  | Asian/Pacific Islander | 100      | Home            | 4         | \n| 2  | 2012 | 1     | Suicide | 0      | F   | 21  | White                  | 100      | Street          | 3         | \n| 3  | 2012 | 1     | Suicide | 0      | M   | 60  | White                  | 100      | Other specified | 4         | \n| 4  | 2012 | 2     | Suicide | 0      | M   | 64  | White                  | 100      | Home            | 4         | \n| 5  | 2012 | 2     | Suicide | 0      | M   | 31  | White                  | 100      | Other specified | 2         | \n", 
            "cell_type": "markdown", 
            "metadata": {}
        }, 
        {
            "source": "Also, we'll be working on another dataset **\"census.csv\"**, which containes info on US race census for the same period and Here are the first few rows of the dataset:", 
            "cell_type": "markdown", 
            "metadata": {}
        }, 
        {
            "source": "| sn | Id       | Year                 | Id.1   | Sex        | Id.2    | Hispanic Origin | Id.3      | Id2 | Geography     | Total     | Race Alone - White | Race Alone - Hispanic | Race Alone - Black or African American | Race Alone - American Indian and Alaska Native | Race Alone - Asian | Race Alone - Native Hawaiian and Other Pacific Islander | Two or More Races | \n|----|----------|----------------------|--------|------------|---------|-----------------|-----------|-----|---------------|-----------|--------------------|-----------------------|----------------------------------------|------------------------------------------------|--------------------|---------------------------------------------------------|-------------------| \n| 0  | cen42010 | April 1, 2010 Census | totsex | Both Sexes | tothisp | Total           | 0100000US | NaN | United States | 308745538 | 197318956          | 44618105              | 40250635                               | 3739506                                        | 15159516           | 674625                                                  | 6984195           | \n", 
            "cell_type": "markdown", 
            "metadata": {}
        }, 
        {
            "source": "As we can see above, the first row of the gun dataset is a header row, \nwhich tells you what kind of data is in each column of the CSV file. Each row contains information about the fatality, \nand the victim. Here's an explanation of each column:\n-- this is an identifier column, which contains the row number. It's common in CSV files to include a unique identifier for each row, but we can ignore it in this analysis.\n* **year** -- the year in which the fatality occurred.\n* **month** -- the month in which the fatality occurred.\n* **intent** -- the intent of the perpetrator of the crime. This can be Suicide, Accidental, NA, Homicide, or Undetermined.\n* **police** -- whether a police officer was involved with the shooting. Either 0 (false) or 1 (true).\n* **sex** -- the gender of the victim. Either M or F.\n* **age** -- the age of the victim.\n* **race** -- the race of the victim. Either Asian/Pacific Islander, Native American/Native Alaskan, Black, Hispanic, or White.\n* **hispanic** -- a code indicating the Hispanic origin of the victim.\n* **place** -- where the shooting occurred. Has several categories, which you're encouraged to explore on your own.\n* **education** -- educational status of the victim. Can be one of the following:\n    1. Less than High School\n    2. Graduated from High School or equivalent\n    3. Some College\n    4. At least graduated from College\n    5. Not available\n\nIn this project, we'll explore the dataset, and try to find patterns in the demographics of the victims.\n\n#### Our first step is to read the data in and take a look at it.", 
            "cell_type": "markdown", 
            "metadata": {}
        }, 
        {
            "execution_count": null, 
            "cell_type": "code", 
            "metadata": {}, 
            "outputs": [], 
            "source": "import sys\nimport csv\nimport datetime,time\nimport types\nimport pandas as pd"
        }, 
        {
            "execution_count": 91, 
            "cell_type": "code", 
            "metadata": {}, 
            "outputs": [], 
            "source": "f= open ('guns.csv','r')\nguns_data = list(csv.reader(f))\nf = open (\"census.csv\",'r')\nusa_2014_census = list(csv.reader(f))\nf = open (\"modified_guns_data.csv\",'r')\nmod_guns_data = list(csv.reader(f))"
        }, 
        {
            "execution_count": 92, 
            "cell_type": "code", 
            "metadata": {}, 
            "outputs": [], 
            "source": "class dataset():\n    def __init__(self,guns_csv,census_csv):\n        self.guns_csv = guns_csv\n        self.guns_rows = self.guns_csv[1:]\n        self.guns_header = self.guns_csv[0]\n        self.census_csv = census_csv\n        self.cen_rows = self.census_csv[1:]\n        self.cen_header = self.census_csv[0]\n        \n    #extracting column index by label from passed obj_header\n    def get_col_index(self,header, label):\n        idx =0\n        for i,v in enumerate(header):\n            if v == label:\n                idx=i\n        return idx\n    #----------------------------------\n    # method to find a column by passed label from Gun_dataset and retrun dict_count for that column \n    def find_count_item(self,label):\n        dict_count = {}\n        #extracting label index\n        for i,v in enumerate(self.guns_header):\n            if v == label:\n                idx=i\n        #looping through data and extracting column_with idx\n        label_lst =[item[idx] for item in self.guns_rows]\n        #counting items and add to dict\n        for item in label_lst:\n            if item in dict_count:\n                dict_count[item] += 1\n            else:\n                dict_count[item]  = 1\n        return dict_count \n    #----------------------------------\n    # fetch items/columns from dataset using passed list of itme/s, along with the data header and return all the rows of matched items \n    def get_item_lst(self,labels=[]):\n        items_lst  = []\n        for label in labels:\n            if label in self.guns_header:\n                idx = self.guns_header.index(label)\n                extracted_lst = [item[idx] for item in self.guns_rows]\n                items_lst.append(extracted_lst)\n        return items_lst\n    #----------------------------------\n    #count any list and return a dict_of_counts\n    def count_item_lst(self,item_lst = []):\n        dict_counts = {}\n        if any(isinstance(el, list) for el in item_lst) == True:\n            for item in item_lst:\n                for i in item:\n                    if i in dict_counts:\n                        dict_counts[i] +=1\n                    else:dict_counts[i] = 1        \n        else:\n             for item in item_lst:\n                if item in dict_counts:\n                    dict_counts[item] += 1\n                else:dict_counts[item] = 1\n        return dict_counts\n    #----------------------------------\n    # class method to do filteration based on some passed paramters\n    # (self,f1_lst=[],f2_lst=[],outter_key) throw SyntaxError: non-default argument follows default argument\n    def count_innerDict(self,f1_lst,f2_lst,outter_key): \n        nested_dict ={}\n        for i,v in enumerate(f2_lst):\n            if f1_lst[i] == outter_key:\n                if v in nested_dict:nested_dict[v]+= 1\n                else: nested_dict[v] = 1\n        return nested_dict \n    \n    #  method to do column filteration based on a passed Optional_Argument\n    def death_filter(self,filter_1,filter_2,filter_1_opt=None): #(\"intent\",\"place\",\"Homicide\") OR #(\"race\",\"sex\")\n        outterDict = {}\n        idx=idx2=0\n        for i,v in enumerate(self.guns_header):\n            if v == filter_1:\n                idx = i\n            if v == filter_2:\n                idx2= i\n        f1_lst = [item[idx] for item in self.guns_rows] # for_example_race\n        f2_lst = [item[idx2] for item in self.guns_rows] # for_example_sex\n        if filter_1_opt is None: #check if Optional_Argument passed\n            #Create a nested Dict to hold filter_1 as outterDict_Key{\"Blak\": {\"F\": 256 , \"M\":2200}} and innerDict as values\n            for i,v in enumerate(f1_lst):  \n                if v in outterDict: \n                    pass\n                else: outterDict[v] = self.count_innerDict(f1_lst,f2_lst,v) #calling to a nested fun\n        else:\n            for i,v in enumerate(f2_lst):\n                if f1_lst[i] == filter_1_opt:\n                    if v in outterDict:\n                        outterDict[v] += 1\n                    else: outterDict[v] = 1\n                else: pass\n        return outterDict\n    #---------------------------------\n    #calcuate rates/100K \n    def death_rate(self,count_dict, total_count_dict, rate=100): #optional argument with default value\n        rate_dict ={}\n        for i,v in count_dict.items():\n            if isinstance(v,dict): #if type(ele) in my_dict.values is dict:\n                rate_dict[i]= {j: round((count_dict[i][j]/total_count_dict[i]*rate),2) for j,z in v.items()}\n            else:\n                for i,v in count_dict.items():\n                    rate_dict[i] = round((count_dict[i]/total_count_dict[i])*rate,2)\n        return rate_dict\n    #---------------------------------\n    #search dataset/columns for all blank/empty rows\n    def findfill_blank(self):\n        dataset_dict ={}\n        blank_items_lst=[]\n        for i,v in enumerate(self.guns_header):\n            #[if_true_statement (if_condition) else/elif_condition (else_statement) for_loop]\n            dataset_dict[v] = [item[i] if item[i]!=\"\" else 'Unknown' for item in self.guns_rows]\n        for key,value in dataset_dict.items():\n            for i,v in enumerate(value):\n                if v == 'Unknown':\n                    blank_items_lst.append((i,key))\n            if len(blank_items_lst) ==0:\n                print(\"no blank\")\n        return dataset_dict,blank_items_lst"
        }, 
        {
            "source": "#### Instantiation dataset object", 
            "cell_type": "markdown", 
            "metadata": {}
        }, 
        {
            "execution_count": 93, 
            "cell_type": "code", 
            "metadata": {}, 
            "outputs": [], 
            "source": "data = dataset(mod_guns_data,usa_2014_census)"
        }, 
        {
            "source": "###### Task-1: we have to load our dataset first as df in our notebook.\n* Read the dataset in as a list using the csv module.\n  * Import the csv module.\n  * Open the file using the open() function.\n  * Use the csv.reader() function to load the opened file.\n* Call list() on the result to get a list of all the data in the file.\n  * Assign the result to the variable data.\n* Display the first 5 rows of data to verify everything.\n* Extract the first row of data, and assign it to the variable headers.\n* Remove the first row from data.\n* Display headers.\n* Display the first 5 rows of data to verify that you removed the header row properly.", 
            "cell_type": "markdown", 
            "metadata": {}
        }, 
        {
            "execution_count": 94, 
            "cell_type": "code", 
            "metadata": {
                "scrolled": true
            }, 
            "outputs": [
                {
                    "output_type": "stream", 
                    "name": "stdout", 
                    "text": "['Unnamed: 0', 'year', 'month', 'intent', 'police', 'sex', 'age', 'race', 'hispanic', 'place', 'education']\n"
                }
            ], 
            "source": "print(data.guns_header)"
        }, 
        {
            "execution_count": 95, 
            "cell_type": "code", 
            "metadata": {}, 
            "outputs": [
                {
                    "execution_count": 95, 
                    "metadata": {}, 
                    "data": {
                        "text/plain": "[['1',\n  '2012',\n  '1',\n  'Suicide',\n  '0',\n  'M',\n  '34.0',\n  'Asian/Pacific Islander',\n  '100',\n  'Home',\n  '4.0']]"
                    }, 
                    "output_type": "execute_result"
                }
            ], 
            "source": "data.guns_rows[:1]"
        }, 
        {
            "source": "#### Task-2:\n* Use a list comprehension to extract the year column from data.\n    * Because the year column is the second column in the data, you'll need to get the element at index 1 in each row.\n    * Assign the result to the variable years.\n* Create an empty dictionary called year_counts.\n* Loop through each element in years.\n    * If the element isn't a key in year_counts, create it, and set the value to 1.\n    * If the element is a key in year_counts, increment the value by one.\n* Display year_counts to see how many gun deaths occur in each year.", 
            "cell_type": "markdown", 
            "metadata": {}
        }, 
        {
            "execution_count": 12, 
            "cell_type": "code", 
            "metadata": {}, 
            "outputs": [], 
            "source": "year_counts = data.count_item_lst(data.get_item_lst(['year']))"
        }, 
        {
            "execution_count": 13, 
            "cell_type": "code", 
            "metadata": {}, 
            "outputs": [], 
            "source": "month_counts = data.find_count_item('month')"
        }, 
        {
            "source": "###### It looks like gun deaths didn't change much by year from 2012 to 2014. \nLet's see if gun deaths in the US change by month and year. In order to do this, \nwe'll have to create a **datetime.datetime object**  using the year and month columns. \nWe'll then be able to count up gun deaths by date, like we did by year in the last screen.\n\nYou can create a datetime object by specifying the year, month, and day keyword arguments:\n    **date = datetime(year=2016, month=12, day=1)**\n\nWe can use the month and year column of data to create a datetime.We'll specify a fixed *day* because we're missing that column in our data.\nIf we create a **datetime.datetime** object for each row, we can then count up how many gun deaths occurred in each month and year.\n\n#### Task-3:\n* Use a list comprehension to create a datetime.datetime object for each row. Assign the result to dates.\n    * The year column is in the second element in each row.\n    * The month column is the third element in each row.\n    * Make sure to convert year and month to integers using int().\n    * Pass year, month, and day=1 into the datetime.datetime() function.\n* Display the first 5 rows in dates to verify everything worked.\n* Count up how many times each unique date occurs in dates. Assign the result to date_counts.\n    * This follows a similar procedure to what we did in the last screen with year_counts.\n* Display date_counts.", 
            "cell_type": "markdown", 
            "metadata": {}
        }, 
        {
            "execution_count": 97, 
            "cell_type": "code", 
            "metadata": {}, 
            "outputs": [], 
            "source": "death_dates = [datetime.datetime(year=int(item[data.get_col_index(data.guns_header,'year')]), month=int(item[data.get_col_index(data.guns_header,'month')]), day =1 ) for item in data.guns_rows ]"
        }, 
        {
            "execution_count": 98, 
            "cell_type": "code", 
            "metadata": {}, 
            "outputs": [], 
            "source": "y_m =[]\nfor item in death_dates:\n    y_m.append((item.year,item.month))\ndate_counts = data.count_item_lst(y_m)"
        }, 
        {
            "source": "#### Task-4:\nThe sex and race columns contain potentially interesting information on how gun deaths in the US vary by gender and race. Exploring both of these columns can be done with a similar dictionary counting technique to what we did earlier.\n* Count up how many times each item in the sex column occurs.\n    * Assign the result to sex_counts.\n* Count up how many times each item in the race column occurs.\n    * Assign the result to race_counts.\n* Display race_counts and sex_counts to verify your work, and see if you can spot any patterns.\n* Write a markdown cell detailing what you've learned so far, and what you think might need further examination.", 
            "cell_type": "markdown", 
            "metadata": {}
        }, 
        {
            "execution_count": 99, 
            "cell_type": "code", 
            "metadata": {}, 
            "outputs": [], 
            "source": "sex_counts = data.find_count_item('sex') # total death count per sex"
        }, 
        {
            "execution_count": 100, 
            "cell_type": "code", 
            "metadata": {}, 
            "outputs": [], 
            "source": "race_counts = data.find_count_item('race') # total death count per race"
        }, 
        {
            "execution_count": 101, 
            "cell_type": "code", 
            "metadata": {}, 
            "outputs": [], 
            "source": "age_counts = data.find_count_item('age') # total death count per age"
        }, 
        {
            "execution_count": 102, 
            "cell_type": "code", 
            "metadata": {}, 
            "outputs": [], 
            "source": "intent_counts= data.count_item_lst(data.get_item_lst(['intent']))"
        }, 
        {
            "source": "#### Task-5:\n* Read in census.csv, and convert to a list of lists. Assign the result to the census variable.\n* Display census to verify your work.", 
            "cell_type": "markdown", 
            "metadata": {}
        }, 
        {
            "source": "| sn | Id       | Year                 | Id.1   | Sex        | Id.2    | Hispanic Origin | Id.3      | Id2 | Geography     | Total     | Race Alone - White | Race Alone - Hispanic | Race Alone - Black or African American | Race Alone - American Indian and Alaska Native | Race Alone - Asian | Race Alone - Native Hawaiian and Other Pacific Islander | Two or More Races | \n|----|----------|----------------------|--------|------------|---------|-----------------|-----------|-----|---------------|-----------|--------------------|-----------------------|----------------------------------------|------------------------------------------------|--------------------|---------------------------------------------------------|-------------------| \n| 0  | cen42010 | April 1, 2010 Census | totsex | Both Sexes | tothisp | Total           | 0100000US | NaN | United States | 308745538 | 197318956          | 44618105              | 40250635                               | 3739506                                        | 15159516           | 674625                                                  | 6984195           | \n", 
            "cell_type": "markdown", 
            "metadata": {}
        }, 
        {
            "source": "Earlier, we computed the number of gun deaths per race, and created a dictionary, race_counts, that looked like this:\n\n**{\n     'Asian/Pacific Islander': 1326,\n     'Black': 23296,\n     'Hispanic': 9022,\n     'Native American/Native Alaskan': 917,\n     'White': 66237\n}**\n\nIn order to get from the raw counts of gun deaths by race to a rate of gun deaths per 100000 people in each race, we'll need to divide the total number of gun deaths by the population of each race. From the census dataset, we know that the number of people in the White racial category is 197318956. We'd divide 66237 by 197318956:\n\n\n**white_gun_death_rate = 66237 / 197318956**\nThis gives us the percentage chance that a given person in the White census race category would have been killed by a gun in the US from 2012 to 2014. If you do this computation, you'll see that the rate is a very small number, 0.0003356849303419181. It's for this reason that it's typical to express crime statistics as the \"rate per 100000\". This tells you the number of people in a given group out of every 100000 that were killed by guns in the US. To get this, we just multiply by 100000:\n\n\n**rate_per_hundredk = 0.0003356849303419181 * 100000**\nThis gives us 33.56, which we can interpret as \"33.56 out of every 100000 people in the White census race category in the US were killed by guns between 2012 and 2014\".\n\nWe'll need to calculate these same rates for each racial category. The only stumbling block is that the racial categories are named slightly differently in census and in data. We'll need to manually construct a dictionary that allows us to map between them, and perform the division.\n\nHere's a list of the race name in data, and the corresponding race name in census:\n\n* **Asian/Pacific Islander -- Race Alone - Asian **plus** Race Alone - Native Hawaiian and Other Pacific Islander.**\n* **Black -- Race Alone - Black or African American.**\n* **Hispanic -- Race Alone - Hispanic**\n* **Native American/Native Alaskan -- Race Alone - American Indian and Alaska Native**\n* **White -- Race Alone - White**\n\nWe'll need to create a dictionary that has each race name from data as a key, and has the population count for the races from census as the values.", 
            "cell_type": "markdown", 
            "metadata": {}
        }, 
        {
            "source": "#### Creating dict of Headers/values from census dataset", 
            "cell_type": "markdown", 
            "metadata": {}
        }, 
        {
            "execution_count": 103, 
            "cell_type": "code", 
            "metadata": {}, 
            "outputs": [], 
            "source": "race_population = {}\nrace_rows = [v for i,v in enumerate(data.cen_rows[0])]\nfor i,v in enumerate(data.cen_header):\n    race_population[v] = race_rows[i]"
        }, 
        {
            "execution_count": 104, 
            "cell_type": "code", 
            "metadata": {}, 
            "outputs": [
                {
                    "execution_count": 104, 
                    "metadata": {}, 
                    "data": {
                        "text/plain": "{'Geography': 'United States',\n 'Hispanic Origin': 'Total',\n 'Id': 'cen42010',\n 'Id.1': 'totsex',\n 'Id.2': 'tothisp',\n 'Id.3': '0100000US',\n 'Id2': '',\n 'Race Alone - American Indian and Alaska Native': '3739506',\n 'Race Alone - Asian': '15159516',\n 'Race Alone - Black or African American': '40250635',\n 'Race Alone - Hispanic': '44618105',\n 'Race Alone - Native Hawaiian and Other Pacific Islander': '674625',\n 'Race Alone - White': '197318956',\n 'Sex': 'Both Sexes',\n 'Total': '308745538',\n 'Two or More Races': '6984195',\n 'Year': 'April 1, 2010 Census'}"
                    }, 
                    "output_type": "execute_result"
                }
            ], 
            "source": "race_population"
        }, 
        {
            "source": "### Mapping Dicts race_counts with race_population in new dict race_map\nManually create a dictionary, mapping that maps each key from race_counts to the population count of the race from census.\nThe keys in the dictionary should be:\n* **Asian/Pacific Islander**\n* **Black**\n* **Native American/Native Alaskan**\n* **Hispanic**\n* **White**\n\nIn the case of Asian/Pacific Islander, you'll need to add the counts from census for **Race Alone - Asian, and Race Alone - Native Hawaiian and Other Pacific Islander**.", 
            "cell_type": "markdown", 
            "metadata": {}
        }, 
        {
            "execution_count": 105, 
            "cell_type": "code", 
            "metadata": {}, 
            "outputs": [], 
            "source": "race_map ={}\nrace_map['Asian/Pacific Islander']=int(race_population['Race Alone - Asian']) + int(race_population['Race Alone - Native Hawaiian and Other Pacific Islander'])\nrace_map['White']=int(race_population['Race Alone - White'])\nrace_map['Native American/Native Alaskan']=int(race_population['Race Alone - American Indian and Alaska Native'])\nrace_map['Black']=int(race_population['Race Alone - Black or African American'])\nrace_map['Hispanic']=int(race_population['Race Alone - Hispanic'])"
        }, 
        {
            "source": "#### Display race_map:", 
            "cell_type": "markdown", 
            "metadata": {}
        }, 
        {
            "execution_count": 106, 
            "cell_type": "code", 
            "metadata": {}, 
            "outputs": [
                {
                    "execution_count": 106, 
                    "metadata": {}, 
                    "data": {
                        "text/plain": "{'Asian/Pacific Islander': 15834141,\n 'Black': 40250635,\n 'Hispanic': 44618105,\n 'Native American/Native Alaskan': 3739506,\n 'White': 197318956}"
                    }, 
                    "output_type": "execute_result"
                }
            ], 
            "source": "race_map"
        }, 
        {
            "source": "#### Function to Match race_counts[key] with race_population value", 
            "cell_type": "markdown", 
            "metadata": {}
        }, 
        {
            "execution_count": 107, 
            "cell_type": "code", 
            "metadata": {}, 
            "outputs": [], 
            "source": "import re\ndef find_key(race,header):\n    string = set(re.split('-|/',race)) # split each race on '-' | '/' and create a unique set\n    #print(string)\n    indices = [] #list of header's indexs where splited key matched \n    for idx,v in enumerate(header): #loop thorugh passed list of header to match with splitted key\n        for s in string:\n            if s == 'Native American' or s=='Native Alaskan':\n                s = 'American Indian'\n            if s in v :\n                if idx in indices:\n                    pass\n                else:\n                    indices.append(idx)\n            else:\n                pass\n    return indices # returned indexs"
        }, 
        {
            "execution_count": 108, 
            "cell_type": "code", 
            "metadata": {}, 
            "outputs": [], 
            "source": "race_header = data.cen_header[10:17] #extracting only race_header columns from census dataset\nrace_value  = data.cen_rows[0][10:17] #extract race_value columns from census dataset"
        }, 
        {
            "execution_count": 109, 
            "cell_type": "code", 
            "metadata": {
                "scrolled": false
            }, 
            "outputs": [], 
            "source": "map_race = {}\nfor race,count in race_counts.items():\n    total = 0\n    idx=find_key(race,race_header)\n    if (len(idx)>1):\n        for i,v  in enumerate(idx):\n            total = total + int(race_value[v])\n        map_race[race] = total\n    else:\n        for i,v  in enumerate(idx):\n            map_race[race] = int(race_value[v])"
        }, 
        {
            "execution_count": 110, 
            "cell_type": "code", 
            "metadata": {
                "scrolled": true
            }, 
            "outputs": [
                {
                    "execution_count": 110, 
                    "metadata": {}, 
                    "data": {
                        "text/plain": "{'Asian/Pacific Islander': 15834141,\n 'Black': 40250635,\n 'Hispanic': 44618105,\n 'Native American/Native Alaskan': 3739506,\n 'White': 197318956}"
                    }, 
                    "output_type": "execute_result"
                }
            ], 
            "source": "map_race"
        }, 
        {
            "source": "##### Task-6\n* Create an empty dictionary, race_per_hundredk.\n* Loop through each key in race_counts .\n* Divide the value associated with the key in race_counts by the value associated with the key in mapping **[races_mapping]**.\nMultiply by 100000.\n* Assign the result to the same key in race_per_hundredk.\n* When you're done, race_per_hundredk should contain the rate of gun deaths per 100000 people for each racial category.\n* Print race_per_hundredk to verify your work.", 
            "cell_type": "markdown", 
            "metadata": {}
        }, 
        {
            "execution_count": 111, 
            "cell_type": "code", 
            "metadata": {}, 
            "outputs": [], 
            "source": "race_per_hundredk = {}\nfor i,v in race_counts.items():\n    race_per_hundredk[i] = round((race_counts[i]/map_race[i])*100000, 2)"
        }, 
        {
            "execution_count": 112, 
            "cell_type": "code", 
            "metadata": {
                "scrolled": false
            }, 
            "outputs": [
                {
                    "execution_count": 112, 
                    "metadata": {}, 
                    "data": {
                        "text/plain": "{'Asian/Pacific Islander': 8.37,\n 'Black': 57.88,\n 'Hispanic': 20.22,\n 'Native American/Native Alaskan': 24.52,\n 'White': 33.57}"
                    }, 
                    "output_type": "execute_result"
                }
            ], 
            "source": "race_per_hundredk"
        }, 
        {
            "source": "#### More Filteration:\nWe can filter our results, and restrict them to the Homicide intent. This will tell us what the gun-related murder rate per 100000 people in each racial category is. In order to do this, we'll need to redo our work in generating race_counts, but only count rows where the intent was Homicide.\n\nWe can do this by first extracting the intent column, then using the enumerate() function to loop through each index and value in the race column. If the value in the same position in intents is Homicide, we'll count the value in the race column.\n\nFinally, we'll use the mapping dictionary to convert from raw counts to rates.", 
            "cell_type": "markdown", 
            "metadata": {}
        }, 
        {
            "source": "#### Task-7:\n\n* Extract the intent column using a list comprehension. The intent column is the fourth column in data.\n    * Assign the result to intents.\n* Extract the race column using a list comprehension. The race column is the eighth column in data.\n    * Assign the result to races.\n* Create an empty dictionary called homicide_race_counts\n* Use the enumerate() function to loop through each item in races. The position should be assigned to the loop variable i, and the value to the loop variable race.\n    * Check the value at position i in intents.\n    * If the value at position i in intents is Homicide:\n        * If the key race doesn't exist in homicide_race_counts, create it.\n        * Add 1 to the value associated with race in homicide_race_counts.\n* When you're done, homicide_race_counts should have one key for each of the racial categories in data. The associated value should be the number of gun deaths by homicide for that race.\n* Perform the same procedure we did in the last screen using mapping on homicide_race_counts to get from raw numbers to rates per 100000.\n* Display homicide_race_counts to verify your work.\n* Write up your findings in a markdown cell.\n* Write up any next steps you want to pursue with the data in a markdown cell.", 
            "cell_type": "markdown", 
            "metadata": {}
        }, 
        {
            "execution_count": 113, 
            "cell_type": "code", 
            "metadata": {}, 
            "outputs": [], 
            "source": "homicide_race_counts=data.death_filter('intent','race','Homicide') #please pass argumnets as following >> filter_1 /group_by_filtter/filter_1_opt"
        }, 
        {
            "execution_count": 114, 
            "cell_type": "code", 
            "metadata": {}, 
            "outputs": [
                {
                    "execution_count": 114, 
                    "metadata": {}, 
                    "data": {
                        "text/plain": "{'Asian/Pacific Islander': 559,\n 'Black': 19510,\n 'Hispanic': 5634,\n 'Native American/Native Alaskan': 326,\n 'White': 9147}"
                    }, 
                    "output_type": "execute_result"
                }
            ], 
            "source": "homicide_race_counts"
        }, 
        {
            "execution_count": 115, 
            "cell_type": "code", 
            "metadata": {
                "scrolled": false
            }, 
            "outputs": [
                {
                    "execution_count": 115, 
                    "metadata": {}, 
                    "data": {
                        "text/plain": "{'Asian/Pacific Islander': 3.53,\n 'Black': 48.47,\n 'Hispanic': 12.63,\n 'Native American/Native Alaskan': 8.72,\n 'White': 4.64}"
                    }, 
                    "output_type": "execute_result"
                }
            ], 
            "source": "data.death_rate(homicide_race_counts,race_map,rate=100000) #overide method default argument rate=100 - We have Race populations in race_map"
        }, 
        {
            "source": "#### That's it for the guided steps! We recommend exploring the data more on your own.\n\nHere are some potential next steps:\n\n* Figure out the link, if any, between month and homicide rate.\n* Explore the homicide rate by gender.\n* Explore the rates of other intents, like Accidental, by gender and race.\n* Find out if gun death rates correlate to location and education.\n\nWe recommend creating a Github repository and placing this project there. It will help other people, including employers, see your work. As you start to put multiple projects on Github, you'll have the beginnings of a strong portfolio. You're welcome to keep working on the project here, but we recommend downloading it to your computer using the download icon above and working on it there.", 
            "cell_type": "markdown", 
            "metadata": {}
        }, 
        {
            "execution_count": 116, 
            "cell_type": "code", 
            "metadata": {}, 
            "outputs": [], 
            "source": "homicide_month_counts=data.death_filter('intent','month','Homicide')"
        }, 
        {
            "execution_count": 117, 
            "cell_type": "code", 
            "metadata": {
                "scrolled": false
            }, 
            "outputs": [], 
            "source": "homicide_month_rate = data.death_rate(homicide_month_counts,month_counts,rate=100) "
        }, 
        {
            "execution_count": 118, 
            "cell_type": "code", 
            "metadata": {}, 
            "outputs": [], 
            "source": "import calendar\n#{key: value for key, value in d.items()}\nmo_dict = {calendar.month_name[int(i)]: v for i,v in homicide_month_counts.items()}"
        }, 
        {
            "execution_count": 119, 
            "cell_type": "code", 
            "metadata": {}, 
            "outputs": [
                {
                    "execution_count": 119, 
                    "metadata": {}, 
                    "data": {
                        "text/plain": "<matplotlib.axes._subplots.AxesSubplot at 0x7f4e87ca5e10>"
                    }, 
                    "output_type": "execute_result"
                }, 
                {
                    "output_type": "display_data", 
                    "data": {
                        "image/png": "[encoded data removed]", 
                        "text/plain": "<matplotlib.figure.Figure at 0x7f4e87ca56d8>"
                    }, 
                    "metadata": {}
                }
            ], 
            "source": "homicide_per_month= pd.DataFrame.from_dict(mo_dict, orient =\"index\") #dataframe from dict\nhomicide_per_month.columns = ['Month/Count'] #Count as column lable\n#df.head(10).plot.bar()\nhomicide_per_month.plot.bar(figsize=[10,5])"
        }, 
        {
            "source": "* By looking into the above bar_graph:we noticed that there is no big variations in guns murders in months however, we can see the number of murders is less in Febraury.\nAnd if we compare the number of murders date wise (year_month) , its showing that the month of Febraury has the less number of murders in 2012/2013/2014 \n###### as showing below:", 
            "cell_type": "markdown", 
            "metadata": {}
        }, 
        {
            "execution_count": 84, 
            "cell_type": "code", 
            "metadata": {}, 
            "outputs": [
                {
                    "output_type": "display_data", 
                    "data": {
                        "image/png": "[encoded data removed]", 
                        "text/plain": "<matplotlib.figure.Figure at 0x7f4e78db28d0>"
                    }, 
                    "metadata": {}
                }
            ], 
            "source": "homicide_per_dates = pd.DataFrame.from_dict(date_counts, orient =\"index\").plot.bar(figsize=[15,5])"
        }, 
        {
            "execution_count": 40, 
            "cell_type": "code", 
            "metadata": {}, 
            "outputs": [], 
            "source": "Homicide_sex_count= data.death_filter('intent','sex','Homicide')"
        }, 
        {
            "source": "* **Female Homicides is higher than male**", 
            "cell_type": "markdown", 
            "metadata": {}
        }, 
        {
            "execution_count": 41, 
            "cell_type": "code", 
            "metadata": {
                "scrolled": true
            }, 
            "outputs": [
                {
                    "execution_count": 41, 
                    "metadata": {}, 
                    "data": {
                        "text/plain": "{'F': 37.19, 'M': 34.51}"
                    }, 
                    "output_type": "execute_result"
                }
            ], 
            "source": "data.death_rate(Homicide_sex_count,sex_counts)"
        }, 
        {
            "execution_count": 42, 
            "cell_type": "code", 
            "metadata": {}, 
            "outputs": [], 
            "source": "Accidental_sex= data.death_filter('intent','sex','Accidental')"
        }, 
        {
            "execution_count": 43, 
            "cell_type": "code", 
            "metadata": {
                "scrolled": true
            }, 
            "outputs": [
                {
                    "execution_count": 43, 
                    "metadata": {}, 
                    "data": {
                        "text/plain": "{'F': 1.51, 'M': 1.65}"
                    }, 
                    "output_type": "execute_result"
                }
            ], 
            "source": "data.death_rate(Accidental_sex,sex_counts) #we did not passed 'rate' argument as we need to calculate with default value: rate=100"
        }, 
        {
            "execution_count": 44, 
            "cell_type": "code", 
            "metadata": {}, 
            "outputs": [], 
            "source": "Accidental_race= data.death_filter('intent','race','Accidental')"
        }, 
        {
            "source": "* **Accidental guns murder hits high in black races than other races**", 
            "cell_type": "markdown", 
            "metadata": {}
        }, 
        {
            "execution_count": 45, 
            "cell_type": "code", 
            "metadata": {
                "scrolled": true
            }, 
            "outputs": [
                {
                    "execution_count": 45, 
                    "metadata": {}, 
                    "data": {
                        "text/plain": "{'Asian/Pacific Islander': 0.08,\n 'Black': 0.81,\n 'Hispanic': 0.32,\n 'Native American/Native Alaskan': 0.59,\n 'White': 0.57}"
                    }, 
                    "output_type": "execute_result"
                }
            ], 
            "source": "data.death_rate(Accidental_race,race_map,rate=100000)#overide method default argument rate=100000"
        }, 
        {
            "execution_count": 46, 
            "cell_type": "code", 
            "metadata": {}, 
            "outputs": [], 
            "source": "murder_location =data.death_filter('intent','place')"
        }, 
        {
            "source": "* **Suicide** and **Homicide** in **Home** showing spike in our data", 
            "cell_type": "markdown", 
            "metadata": {}
        }, 
        {
            "execution_count": 47, 
            "cell_type": "code", 
            "metadata": {
                "scrolled": false
            }, 
            "outputs": [
                {
                    "execution_count": 47, 
                    "metadata": {}, 
                    "data": {
                        "text/plain": "<matplotlib.axes._subplots.AxesSubplot at 0x7f4e799d5898>"
                    }, 
                    "output_type": "execute_result"
                }, 
                {
                    "output_type": "display_data", 
                    "data": {
                        "image/png": "[encoded data removed]", 
                        "text/plain": "<matplotlib.figure.Figure at 0x7f4e799d77f0>"
                    }, 
                    "metadata": {}
                }
            ], 
            "source": "murder_per_location = pd.DataFrame.from_dict(murder_location, orient =\"index\")\nmurder_per_location.plot.bar(figsize=[10,5])"
        }, 
        {
            "execution_count": 48, 
            "cell_type": "code", 
            "metadata": {}, 
            "outputs": [], 
            "source": "death_educate =data.death_filter('intent','education')"
        }, 
        {
            "execution_count": 49, 
            "cell_type": "code", 
            "metadata": {
                "scrolled": false
            }, 
            "outputs": [], 
            "source": "death_educateRate = data.death_rate(death_educate,intent_counts,rate=100)#overide method default argument rate=100000"
        }, 
        {
            "source": "* **People with education 2.0 are more likely to Suicide as showing below. Also, they are more likely to be murdered \"Homicide\"**", 
            "cell_type": "markdown", 
            "metadata": {}
        }, 
        {
            "execution_count": 50, 
            "cell_type": "code", 
            "metadata": {
                "scrolled": false
            }, 
            "outputs": [
                {
                    "execution_count": 50, 
                    "metadata": {}, 
                    "data": {
                        "text/plain": "<matplotlib.axes._subplots.AxesSubplot at 0x7f4e798f8e48>"
                    }, 
                    "output_type": "execute_result"
                }, 
                {
                    "output_type": "display_data", 
                    "data": {
                        "image/png": "[encoded data removed]", 
                        "text/plain": "<matplotlib.figure.Figure at 0x7f4e79998ac8>"
                    }, 
                    "metadata": {}
                }
            ], 
            "source": "pd.DataFrame.from_dict(death_educate, orient =\"index\").plot.bar(figsize=[10,5])"
        }, 
        {
            "source": "* **Unkown data caused spike when we calculate the rate of deaths per education level**", 
            "cell_type": "markdown", 
            "metadata": {}
        }, 
        {
            "execution_count": 66, 
            "cell_type": "code", 
            "metadata": {}, 
            "outputs": [
                {
                    "execution_count": 66, 
                    "metadata": {}, 
                    "data": {
                        "text/plain": "<matplotlib.axes._subplots.AxesSubplot at 0x7f4e794788d0>"
                    }, 
                    "output_type": "execute_result"
                }, 
                {
                    "output_type": "display_data", 
                    "data": {
                        "image/png": "[encoded data removed]", 
                        "text/plain": "<matplotlib.figure.Figure at 0x7f4e794782b0>"
                    }, 
                    "metadata": {}
                }
            ], 
            "source": "pd.DataFrame.from_dict(death_educateRate, orient =\"index\").plot.bar(figsize=[10,5])"
        }, 
        {
            "execution_count": null, 
            "cell_type": "code", 
            "metadata": {}, 
            "outputs": [], 
            "source": ""
        }
    ], 
    "metadata": {
        "kernelspec": {
            "display_name": "Python 3.5", 
            "name": "python3", 
            "language": "python"
        }, 
        "language_info": {
            "mimetype": "text/x-python", 
            "nbconvert_exporter": "python", 
            "version": "3.5.5", 
            "name": "python", 
            "file_extension": ".py", 
            "pygments_lexer": "ipython3", 
            "codemirror_mode": {
                "version": 3, 
                "name": "ipython"
            }
        }
    }, 
    "nbformat": 4
}